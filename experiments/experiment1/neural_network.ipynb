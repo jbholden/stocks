{
 "cells": [
  {
   "cell_type": "markdown",
   "metadata": {},
   "source": [
    "## Import Libraries"
   ]
  },
  {
   "cell_type": "code",
   "execution_count": 1,
   "metadata": {},
   "outputs": [
    {
     "name": "stderr",
     "output_type": "stream",
     "text": [
      "/Users/Brent/anaconda/envs/stocks/lib/python3.6/site-packages/fix_yahoo_finance/__init__.py:43: DeprecationWarning: \n",
      "    Auto-overriding of pandas_datareader's get_data_yahoo() is deprecated and will be removed in future versions.\n",
      "    Use pdr_override() to explicitly override it.\n",
      "  DeprecationWarning)\n"
     ]
    }
   ],
   "source": [
    "import pandas_datareader.data as pdr\n",
    "import datetime\n",
    "import numpy as np\n",
    "\n",
    "# seems to be a problem with pandas_datareader\n",
    "# use this fix to get data from Yahoo! Finance\n",
    "import fix_yahoo_finance as yf\n",
    "yf.pdr_override()"
   ]
  },
  {
   "cell_type": "markdown",
   "metadata": {},
   "source": [
    "## Get the data\n",
    "\n",
    "Download the price data from Yahoo and load it into memory"
   ]
  },
  {
   "cell_type": "code",
   "execution_count": 2,
   "metadata": {
    "collapsed": true
   },
   "outputs": [],
   "source": [
    "def download_data_yahoo(symbol,start_date,end_date):\n",
    "    data = pdr.get_data_yahoo(symbol, start=start_date, end=end_date)\n",
    "    return data"
   ]
  },
  {
   "cell_type": "code",
   "execution_count": 3,
   "metadata": {},
   "outputs": [
    {
     "name": "stdout",
     "output_type": "stream",
     "text": [
      "[*********************100%***********************]  1 of 1 downloaded"
     ]
    }
   ],
   "source": [
    "# test download_data\n",
    "start = datetime.datetime(2010,1,1)\n",
    "end = datetime.datetime(2011,1,1)\n",
    "test_data = download_data_yahoo('SPY',start_date=\"2010-01-01\",end_date=\"2011-01-01\")"
   ]
  },
  {
   "cell_type": "code",
   "execution_count": 4,
   "metadata": {},
   "outputs": [
    {
     "data": {
      "text/html": [
       "<div>\n",
       "<style>\n",
       "    .dataframe thead tr:only-child th {\n",
       "        text-align: right;\n",
       "    }\n",
       "\n",
       "    .dataframe thead th {\n",
       "        text-align: left;\n",
       "    }\n",
       "\n",
       "    .dataframe tbody tr th {\n",
       "        vertical-align: top;\n",
       "    }\n",
       "</style>\n",
       "<table border=\"1\" class=\"dataframe\">\n",
       "  <thead>\n",
       "    <tr style=\"text-align: right;\">\n",
       "      <th></th>\n",
       "      <th>Open</th>\n",
       "      <th>High</th>\n",
       "      <th>Low</th>\n",
       "      <th>Close</th>\n",
       "      <th>Adj Close</th>\n",
       "      <th>Volume</th>\n",
       "    </tr>\n",
       "    <tr>\n",
       "      <th>Date</th>\n",
       "      <th></th>\n",
       "      <th></th>\n",
       "      <th></th>\n",
       "      <th></th>\n",
       "      <th></th>\n",
       "      <th></th>\n",
       "    </tr>\n",
       "  </thead>\n",
       "  <tbody>\n",
       "    <tr>\n",
       "      <th>2010-01-04</th>\n",
       "      <td>112.370003</td>\n",
       "      <td>113.389999</td>\n",
       "      <td>111.510002</td>\n",
       "      <td>113.330002</td>\n",
       "      <td>97.314163</td>\n",
       "      <td>118944600</td>\n",
       "    </tr>\n",
       "    <tr>\n",
       "      <th>2010-01-05</th>\n",
       "      <td>113.260002</td>\n",
       "      <td>113.680000</td>\n",
       "      <td>112.849998</td>\n",
       "      <td>113.629997</td>\n",
       "      <td>97.571754</td>\n",
       "      <td>111579900</td>\n",
       "    </tr>\n",
       "    <tr>\n",
       "      <th>2010-01-06</th>\n",
       "      <td>113.519997</td>\n",
       "      <td>113.989998</td>\n",
       "      <td>113.430000</td>\n",
       "      <td>113.709999</td>\n",
       "      <td>97.640457</td>\n",
       "      <td>116074400</td>\n",
       "    </tr>\n",
       "    <tr>\n",
       "      <th>2010-01-07</th>\n",
       "      <td>113.500000</td>\n",
       "      <td>114.330002</td>\n",
       "      <td>113.180000</td>\n",
       "      <td>114.190002</td>\n",
       "      <td>98.052658</td>\n",
       "      <td>131091100</td>\n",
       "    </tr>\n",
       "    <tr>\n",
       "      <th>2010-01-08</th>\n",
       "      <td>113.889999</td>\n",
       "      <td>114.620003</td>\n",
       "      <td>113.660004</td>\n",
       "      <td>114.570000</td>\n",
       "      <td>98.378929</td>\n",
       "      <td>126402800</td>\n",
       "    </tr>\n",
       "  </tbody>\n",
       "</table>\n",
       "</div>"
      ],
      "text/plain": [
       "                  Open        High         Low       Close  Adj Close  \\\n",
       "Date                                                                    \n",
       "2010-01-04  112.370003  113.389999  111.510002  113.330002  97.314163   \n",
       "2010-01-05  113.260002  113.680000  112.849998  113.629997  97.571754   \n",
       "2010-01-06  113.519997  113.989998  113.430000  113.709999  97.640457   \n",
       "2010-01-07  113.500000  114.330002  113.180000  114.190002  98.052658   \n",
       "2010-01-08  113.889999  114.620003  113.660004  114.570000  98.378929   \n",
       "\n",
       "               Volume  \n",
       "Date                   \n",
       "2010-01-04  118944600  \n",
       "2010-01-05  111579900  \n",
       "2010-01-06  116074400  \n",
       "2010-01-07  131091100  \n",
       "2010-01-08  126402800  "
      ]
     },
     "execution_count": 4,
     "metadata": {},
     "output_type": "execute_result"
    }
   ],
   "source": [
    "test_data.head()"
   ]
  },
  {
   "cell_type": "markdown",
   "metadata": {},
   "source": [
    "## Preprocess the data\n",
    "Preprocess the data into inputs and outputs.\n",
    "For example, for each time step, use the past 10 days as the input, and the price on the next day as the output.  Also, do any data cleaning that is necessary like filling in missing prices"
   ]
  },
  {
   "cell_type": "code",
   "execution_count": 7,
   "metadata": {
    "collapsed": true
   },
   "outputs": [],
   "source": [
    "def preprocess_data(yahoo_data,number_of_days=10):\n",
    "    \n",
    "    prices = yahoo_data['Adj Close']\n",
    "    num_prices = len(prices)\n",
    "    \n",
    "    # only use dates with enough information\n",
    "    # start with the first date with number_of_days in the past available\n",
    "    # end with the next to last date since we are predicting 1 day in the future\n",
    "    #valid_data = raw_data.iloc[number_of_days-1:-1]\n",
    "    #valid_prices = prices.iloc[number_of_days-1:-1]\n",
    "    start_index = number_of_days - 1\n",
    "    end_index = num_prices - 1\n",
    "    num_samples = end_index - start_index\n",
    "    \n",
    "    # build the inputs and outputs\n",
    "    input_x = np.empty((num_samples,number_of_days),dtype=np.float)\n",
    "    output_y = np.empty((num_samples),dtype=np.float)\n",
    "    \n",
    "    for sample_i in range(num_samples):\n",
    "        # this is the index number of the current day\n",
    "        # input data will be today's index with number of days in the past\n",
    "        # output data will be tommorrow's price (today_i+1)\n",
    "        today_i = sample_i + number_of_days - 1\n",
    "        \n",
    "        input_x[sample_i,:] = prices[today_i-number_of_days+1:today_i+1]\n",
    "        output_y[sample_i] = prices[today_i+1]\n",
    "        \n",
    "    return input_x, output_y\n",
    "        \n",
    "input_x, output_y = preprocess_data(test_data)"
   ]
  },
  {
   "cell_type": "code",
   "execution_count": 15,
   "metadata": {},
   "outputs": [
    {
     "data": {
      "text/plain": [
       "[10, 9, 8, 7, 6, 5, 4, 3, 2, 1, 0]"
      ]
     },
     "execution_count": 15,
     "metadata": {},
     "output_type": "execute_result"
    }
   ],
   "source": [
    "list(range(10,-1,-1))"
   ]
  },
  {
   "cell_type": "code",
   "execution_count": 20,
   "metadata": {},
   "outputs": [
    {
     "name": "stdout",
     "output_type": "stream",
     "text": [
      "Row 0 Raw Data\n",
      "-------------------\n",
      "Input:\n",
      "[ 97.314163  97.571754  97.640457  98.052658  98.378929  98.516312\n",
      "  97.597534  98.421867  98.688065  97.580353]\n",
      "Output:\n",
      "98.79969\n",
      "\n",
      "Data Interpretation\n",
      "-------------------\n",
      "Today's Price : 97.580353\n",
      "Today - 1 days: 98.688065\n",
      "Today - 2 days: 98.421867\n",
      "Today - 3 days: 97.597534\n",
      "Today - 4 days: 98.516312\n",
      "Today - 5 days: 98.378929\n",
      "Today - 6 days: 98.052658\n",
      "Today - 7 days: 97.640457\n",
      "Today - 8 days: 97.571754\n",
      "Today - 9 days: 97.314163\n",
      "Tomorrow's Price (Price to Predict): 98.799690\n",
      "\n",
      "Row 1 Raw Data\n",
      "-------------------\n",
      "Input:\n",
      "[ 97.571754  97.640457  98.052658  98.378929  98.516312  97.597534\n",
      "  98.421867  98.688065  97.580353  98.79969 ]\n",
      "Output:\n",
      "97.795021\n",
      "\n",
      "Data Interpretation\n",
      "-------------------\n",
      "Today's Price : 98.799690\n",
      "Today - 1 days: 97.580353\n",
      "Today - 2 days: 98.688065\n",
      "Today - 3 days: 98.421867\n",
      "Today - 4 days: 97.597534\n",
      "Today - 5 days: 98.516312\n",
      "Today - 6 days: 98.378929\n",
      "Today - 7 days: 98.052658\n",
      "Today - 8 days: 97.640457\n",
      "Today - 9 days: 97.571754\n",
      "Tomorrow's Price (Price to Predict): 97.795021\n",
      "\n",
      "Row -1 Raw Data\n",
      "-------------------\n",
      "Input:\n",
      "[ 108.712715  108.82917   109.091827  109.78347   110.124939  109.967361\n",
      "  110.011124  110.168709  110.24752   110.072426]\n",
      "Output:\n",
      "110.098694\n",
      "\n",
      "Data Interpretation\n",
      "-------------------\n",
      "Today's Price : 110.072426\n",
      "Today - 1 days: 110.247520\n",
      "Today - 2 days: 110.168709\n",
      "Today - 3 days: 110.011124\n",
      "Today - 4 days: 109.967361\n",
      "Today - 5 days: 110.124939\n",
      "Today - 6 days: 109.783470\n",
      "Today - 7 days: 109.091827\n",
      "Today - 8 days: 108.829170\n",
      "Today - 9 days: 108.712715\n",
      "Tomorrow's Price (Price to Predict): 110.098694\n",
      "\n"
     ]
    }
   ],
   "source": [
    "# look at some of the data\n",
    "def print_row(i,input_x,output_y):\n",
    "    print(\"Row %d Input Prices (today's price %.2f):\" % (i,input_x[i,-1]))\n",
    "    print(input_x[i,:])\n",
    "    print(\"Row %d Target (tomorrow's price): %f\\n\" % (i,output_y[i]))\n",
    "    \n",
    "def print_row(i,input_x,output_y):\n",
    "    print(\"Row %d Raw Data\" % (i))\n",
    "    print(\"-------------------\")\n",
    "    print(\"Input:\")\n",
    "    print(input_x[i,:])\n",
    "    print(\"Output:\")\n",
    "    print(output_y[i])\n",
    "    print(\"\")\n",
    "    \n",
    "    print(\"Data Interpretation\")\n",
    "    print(\"-------------------\")\n",
    "    num_inputs = input_x.shape[1]\n",
    "    \n",
    "    print(\"Today's Price : %f\" % (input_x[i,-1]))\n",
    "    \n",
    "    for xi in range(num_inputs-2,-1,-1):\n",
    "        days_in_past = num_inputs - xi - 1\n",
    "        print(\"Today - %d days: %f\" % (days_in_past,input_x[i,xi]))\n",
    "        \n",
    "    print(\"Tomorrow's Price (Price to Predict): %f\\n\" % (output_y[i]))\n",
    "    \n",
    "\n",
    "print_row(0,input_x,output_y)\n",
    "print_row(1,input_x,output_y)\n",
    "print_row(-1,input_x,output_y) # last row\n",
    "\n",
    "\n"
   ]
  },
  {
   "cell_type": "markdown",
   "metadata": {},
   "source": [
    "## Divide data into training, test, and validation sets\n"
   ]
  },
  {
   "cell_type": "code",
   "execution_count": null,
   "metadata": {
    "collapsed": true
   },
   "outputs": [],
   "source": [
    "def split_dataset(data):\n",
    "    return train_data, test_data, validation_data"
   ]
  },
  {
   "cell_type": "markdown",
   "metadata": {},
   "source": [
    "## Create a modular function that can be called to get data\n",
    "Combine the previous functions into a simple function that can be called to get the data"
   ]
  },
  {
   "cell_type": "code",
   "execution_count": 1,
   "metadata": {
    "collapsed": true
   },
   "outputs": [],
   "source": [
    "def get_data(symbol,train_start_date,train_end_date,\n",
    "             test_start_date,test_end_date,\n",
    "             validation_start_date,validation_end_date):\n",
    "    return train_data, test_data, validation_data"
   ]
  },
  {
   "cell_type": "markdown",
   "metadata": {},
   "source": [
    "## Create your model\n",
    "Setup whatever model you plan to use for price prediction. i.e. neural network, linear regression, etc."
   ]
  },
  {
   "cell_type": "code",
   "execution_count": 2,
   "metadata": {
    "collapsed": true
   },
   "outputs": [],
   "source": [
    "def setup_model():\n",
    "    return model"
   ]
  },
  {
   "cell_type": "markdown",
   "metadata": {},
   "source": [
    "## Train your model\n",
    "Define the function to train your model using the training data and the test data"
   ]
  },
  {
   "cell_type": "code",
   "execution_count": 6,
   "metadata": {
    "collapsed": true
   },
   "outputs": [],
   "source": [
    "def train(model,train_data,test_data):\n",
    "    pass"
   ]
  },
  {
   "cell_type": "markdown",
   "metadata": {},
   "source": [
    "## Evaluate your model on the validation set\n",
    "Return the accuracy of your model"
   ]
  },
  {
   "cell_type": "code",
   "execution_count": null,
   "metadata": {
    "collapsed": true
   },
   "outputs": [],
   "source": [
    "def evaluate(model,validation_data):\n",
    "    pass"
   ]
  },
  {
   "cell_type": "markdown",
   "metadata": {},
   "source": [
    "## Display the results\n",
    "Show graphs and metrics of your model accuracy"
   ]
  },
  {
   "cell_type": "code",
   "execution_count": null,
   "metadata": {
    "collapsed": true
   },
   "outputs": [],
   "source": [
    "def results():\n",
    "    pass"
   ]
  },
  {
   "cell_type": "markdown",
   "metadata": {},
   "source": [
    "## Train and evaluate your model here\n",
    "Call the functions to get the data, train the model, and evaluate it on the validation data"
   ]
  },
  {
   "cell_type": "code",
   "execution_count": null,
   "metadata": {
    "collapsed": true
   },
   "outputs": [],
   "source": []
  }
 ],
 "metadata": {
  "kernelspec": {
   "display_name": "Python 3",
   "language": "python",
   "name": "python3"
  },
  "language_info": {
   "codemirror_mode": {
    "name": "ipython",
    "version": 3
   },
   "file_extension": ".py",
   "mimetype": "text/x-python",
   "name": "python",
   "nbconvert_exporter": "python",
   "pygments_lexer": "ipython3",
   "version": "3.6.1"
  }
 },
 "nbformat": 4,
 "nbformat_minor": 1
}
