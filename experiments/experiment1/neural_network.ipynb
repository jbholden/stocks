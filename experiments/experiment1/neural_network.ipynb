{
 "cells": [
  {
   "cell_type": "markdown",
   "metadata": {},
   "source": [
    "## Import Libraries"
   ]
  },
  {
   "cell_type": "code",
   "execution_count": 1,
   "metadata": {},
   "outputs": [
    {
     "name": "stderr",
     "output_type": "stream",
     "text": [
      "/Users/Brent/anaconda/envs/stocks/lib/python3.6/site-packages/fix_yahoo_finance/__init__.py:43: DeprecationWarning: \n",
      "    Auto-overriding of pandas_datareader's get_data_yahoo() is deprecated and will be removed in future versions.\n",
      "    Use pdr_override() to explicitly override it.\n",
      "  DeprecationWarning)\n"
     ]
    }
   ],
   "source": [
    "import pandas_datareader.data as pdr\n",
    "import datetime\n",
    "import numpy as np\n",
    "import unittest\n",
    "import pandas as pd\n",
    "\n",
    "# seems to be a problem with pandas_datareader\n",
    "# use this fix to get data from Yahoo! Finance\n",
    "import fix_yahoo_finance as yf\n",
    "yf.pdr_override()"
   ]
  },
  {
   "cell_type": "markdown",
   "metadata": {},
   "source": [
    "## Helper Functions"
   ]
  },
  {
   "cell_type": "code",
   "execution_count": 2,
   "metadata": {
    "collapsed": true
   },
   "outputs": [],
   "source": [
    "def run_unit_tests(testClass):\n",
    "    suite = unittest.TestLoader().loadTestsFromTestCase(testClass)\n",
    "    unittest.TextTestRunner().run(suite)"
   ]
  },
  {
   "cell_type": "markdown",
   "metadata": {},
   "source": [
    "## Data\n",
    "Create a class that downloads the stock data and sets up the input/output data"
   ]
  },
  {
   "cell_type": "code",
   "execution_count": 8,
   "metadata": {
    "collapsed": true
   },
   "outputs": [],
   "source": [
    "class CreateDataSet:\n",
    "    \n",
    "    def __init__(self,symbol,number_of_days=10):\n",
    "        self.symbol = symbol\n",
    "        self.number_of_days = number_of_days\n",
    "        self.train_start_date = None\n",
    "        self.train_end_date = None\n",
    "        self.test_start_date = None\n",
    "        self.test_end_date = None\n",
    "        self.validation_start_date = None\n",
    "        self.validation_end_date = None\n",
    "        self.yahoo_data = None\n",
    "        self.pandas_df = None\n",
    "        self.training_df = None\n",
    "        self.test_df = None\n",
    "        self.validation_df = None\n",
    "        self.training_x = None\n",
    "        self.training_y = None\n",
    "        self.test_x = None\n",
    "        self.test_y = None\n",
    "        self.validation_x = None\n",
    "        self.validation_y = None\n",
    "\n",
    "        \n",
    "    def set_training_dates(self,start_date,end_date):\n",
    "        self.__check_date_string_format(start_date)\n",
    "        self.__check_date_string_format(end_date)\n",
    "        self.__check_start_date_before_end_date(start_date,end_date)\n",
    "        self.train_start_date = start_date\n",
    "        self.train_end_date = end_date\n",
    "        \n",
    "    def set_test_dates(self,start_date,end_date):\n",
    "        self.__check_date_string_format(start_date)\n",
    "        self.__check_date_string_format(end_date)\n",
    "        self.__check_start_date_before_end_date(start_date,end_date)\n",
    "        self.test_start_date = start_date\n",
    "        self.test_end_date = end_date\n",
    "        \n",
    "    def set_validation_dates(self,start_date,end_date):\n",
    "        self.__check_date_string_format(start_date)\n",
    "        self.__check_date_string_format(end_date)\n",
    "        self.__check_start_date_before_end_date(start_date,end_date)\n",
    "        self.validation_start_date = start_date\n",
    "        self.validation_end_date = end_date\n",
    "        \n",
    "    def download_data(self):\n",
    "        assert self.train_start_date != None, \"Training start date not set\"\n",
    "        assert self.train_end_date != None, \"Training end date not set\"\n",
    "        assert self.test_start_date != None, \"Test start date not set\"\n",
    "        assert self.test_end_date != None, \"Test end date not set\"\n",
    "        assert self.validation_start_date != None, \"Validation start date not set\"\n",
    "        assert self.validation_end_date != None, \"Validation end date not set\"\n",
    "        \n",
    "        start_date, end_date = self.__calculate_download_start_end_dates()\n",
    "\n",
    "        self.yahoo_data = self.__download_data_yahoo(self.symbol,start_date,end_date)\n",
    "        \n",
    "        assert self.yahoo_data.shape != (0,0), \"No data was downloaded\"\n",
    "        \n",
    "    def create_dataset(self):\n",
    "        \n",
    "        if self.yahoo_data == None:\n",
    "            self.download_data()\n",
    "        \n",
    "        prices = self.yahoo_data['Adj Close']\n",
    "        \n",
    "        # fill in missing data\n",
    "        prices.fillna(method='ffill', inplace=True)\n",
    "        prices.fillna(method='bfill', inplace=True)\n",
    "        \n",
    "        # input features named X0, X1, X2, ...\n",
    "        # output feature named Y (this is what we are predicting, tomorrows stock price)\n",
    "        x_features = [ 'X%d' % (i) for i in range(self.number_of_days)]\n",
    "        y_feature = ['Y']\n",
    "        features = x_features + y_feature\n",
    "        \n",
    "        df = pd.DataFrame(index=prices.index,columns=features)\n",
    "        df['Y'] = prices.shift(-1)\n",
    "        \n",
    "        for i in range(self.number_of_days):\n",
    "            x_feature = \"X%d\" % (i)\n",
    "            df[x_feature] = prices.shift(i)\n",
    "            \n",
    "        # trim the dataset to only use dates with enough data\n",
    "        #\n",
    "        # example: if number_of_days=10, then first date with enough\n",
    "        # information will be day 10 (i.e. array index 9)\n",
    "        #\n",
    "        # last date will be next to last day in dataset since predicting tommorrows price\n",
    "        df = df[self.number_of_days-1:-1]\n",
    "        \n",
    "        # there shouldn't be any NaN values\n",
    "        assert df.isnull().values.any() == False, \"Dataset contains unexpected NaN values\"\n",
    "                    \n",
    "        self.pandas_df = df\n",
    "        \n",
    "        # split dataset into training/test/validation sets\n",
    "        \n",
    "        # data as pandas dataframes\n",
    "        self.training_df = df[self.train_start_date:self.train_end_date]\n",
    "        self.test_df = df[self.test_start_date:self.test_end_date]\n",
    "        self.validation_df = df[self.validation_start_date:self.validation_end_date]\n",
    "        \n",
    "        # data as numpy arrays\n",
    "        self.training_x = self.training_df[x_features].values\n",
    "        self.training_y = self.training_df[y_feature].values\n",
    "        self.test_x = self.test_df[x_features].values\n",
    "        self.test_y = self.test_df[y_feature].values\n",
    "        self.validation_x = self.validation_df[x_features].values\n",
    "        self.validation_y = self.validation_df[y_feature].values        \n",
    "        \n",
    "    def __download_data_yahoo(self,symbol,start_date,end_date):\n",
    "        data = pdr.get_data_yahoo(symbol, start=start_date, end=end_date)\n",
    "        return data\n",
    "    \n",
    "    def __str_to_datetime(self,date_str):\n",
    "        return datetime.datetime.strptime(date_str,\"%Y-%m-%d\")\n",
    "    \n",
    "    def __check_date_string_format(self,date_str):\n",
    "        assert datetime.datetime.strptime(date_str,\"%Y-%m-%d\"), \"Dates must be a string in the format YYYY-MM-DD\"\n",
    "        \n",
    "    def __check_start_date_before_end_date(self,start_date,end_date):\n",
    "        start = self.__str_to_datetime(start_date)\n",
    "        end = self.__str_to_datetime(end_date)\n",
    "        assert start < end, \"Start date must be before the end date\"\n",
    "        \n",
    "    def __calculate_download_start_end_dates(self):\n",
    "        train_start = self.__str_to_datetime(self.train_start_date)\n",
    "        test_start = self.__str_to_datetime(self.test_start_date)\n",
    "        validation_start = self.__str_to_datetime(self.validation_start_date)\n",
    "        train_end = self.__str_to_datetime(self.train_end_date)\n",
    "        test_end = self.__str_to_datetime(self.test_end_date)\n",
    "        validation_end = self.__str_to_datetime(self.validation_end_date)\n",
    "        \n",
    "        start_datetime = min(train_start,test_start,validation_start)\n",
    "        end_datetime = max(train_end,test_end,validation_end)\n",
    "        \n",
    "        start_date = start_datetime.strftime(\"%Y-%m-%d\")\n",
    "        end_date = end_datetime.strftime(\"%Y-%m-%d\")\n",
    "          \n",
    "        return start_date,end_date\n",
    "        \n",
    "    \n"
   ]
  },
  {
   "cell_type": "code",
   "execution_count": 10,
   "metadata": {},
   "outputs": [
    {
     "name": "stdout",
     "output_type": "stream",
     "text": [
      "[*********************100%***********************]  1 of 1 downloaded"
     ]
    },
    {
     "name": "stderr",
     "output_type": "stream",
     "text": [
      "."
     ]
    },
    {
     "name": "stdout",
     "output_type": "stream",
     "text": [
      "[*********************100%***********************]  1 of 1 downloaded"
     ]
    },
    {
     "name": "stderr",
     "output_type": "stream",
     "text": [
      "."
     ]
    },
    {
     "name": "stdout",
     "output_type": "stream",
     "text": [
      "[*********************100%***********************]  1 of 1 downloaded"
     ]
    },
    {
     "name": "stderr",
     "output_type": "stream",
     "text": [
      "."
     ]
    },
    {
     "name": "stdout",
     "output_type": "stream",
     "text": [
      "[*********************100%***********************]  1 of 1 downloaded"
     ]
    },
    {
     "name": "stderr",
     "output_type": "stream",
     "text": [
      ".....\n",
      "----------------------------------------------------------------------\n",
      "Ran 8 tests in 1.202s\n",
      "\n",
      "OK\n"
     ]
    }
   ],
   "source": [
    "# Test the create data set class\n",
    "class CreateDataSetTest(unittest.TestCase):\n",
    "        \n",
    "    def test_set_dates(self):\n",
    "        dataset = CreateDataSet('SPY')\n",
    "        dataset.set_training_dates(start_date=\"2010-01-01\",end_date=\"2011-01-01\")\n",
    "        dataset.set_test_dates(start_date=\"2010-01-01\",end_date=\"2011-01-01\")\n",
    "        dataset.set_validation_dates(start_date=\"2010-01-01\",end_date=\"2011-01-01\")\n",
    "        \n",
    "    def test_set_dates_not_str(self):\n",
    "        dataset = CreateDataSet('SPY')\n",
    "        \n",
    "        with self.assertRaises(Exception):\n",
    "            dataset.set_training_dates(start_date=datetime.datetime(2010,1,1),end_date=\"2011-01-01\")\n",
    "            \n",
    "        with self.assertRaises(Exception):\n",
    "            dataset.set_training_dates(start_date=\"2010-01-01\",end_date=datetime.datetime(2011,1,1))\n",
    "            \n",
    "        with self.assertRaises(Exception):\n",
    "            dataset.set_test_dates(start_date=datetime.datetime(2010,1,1),end_date=\"2011-01-01\")\n",
    "            \n",
    "        with self.assertRaises(Exception):\n",
    "            dataset.set_test_dates(start_date=\"2010-01-01\",end_date=datetime.datetime(2011,1,1))\n",
    "            \n",
    "        with self.assertRaises(Exception):\n",
    "            dataset.set_validation_dates(start_date=datetime.datetime(2010,1,1),end_date=\"2011-01-01\")\n",
    "            \n",
    "        with self.assertRaises(Exception):\n",
    "            dataset.set_validation_dates(start_date=\"2010-01-01\",end_date=datetime.datetime(2011,1,1))\n",
    "            \n",
    "    def test_set_dates_bad_str_format(self):\n",
    "        dataset = CreateDataSet('SPY')\n",
    "        \n",
    "        with self.assertRaises(Exception):\n",
    "            dataset.set_training_dates(start_date=\"01-01-2011\",end_date=\"2011-01-01\")\n",
    "            \n",
    "        with self.assertRaises(Exception):\n",
    "            dataset.set_training_dates(start_date=\"2010-01-01\",end_date=\"01-01-2011\")\n",
    "            \n",
    "        with self.assertRaises(Exception):\n",
    "            dataset.set_test_dates(start_date=\"01-01-2011\",end_date=\"2011-01-01\")\n",
    "            \n",
    "        with self.assertRaises(Exception):\n",
    "            dataset.set_test_dates(start_date=\"2010-01-01\",end_date=\"01-01-2011\")\n",
    "            \n",
    "        with self.assertRaises(Exception):\n",
    "            dataset.set_validation_dates(start_date=\"01-01-2011\",end_date=\"2011-01-01\")\n",
    "            \n",
    "        with self.assertRaises(Exception):\n",
    "            dataset.set_validation_dates(start_date=\"2010-01-01\",end_date=\"01-01-2011\")\n",
    "            \n",
    "    def test_set_dates_start_date_after_end_date(self):\n",
    "        dataset = CreateDataSet('SPY')\n",
    "        \n",
    "        with self.assertRaises(Exception):\n",
    "            dataset.set_training_dates(start_date=\"2011-01-02\",end_date=\"2011-01-01\")\n",
    "            \n",
    "        with self.assertRaises(Exception):\n",
    "            dataset.set_test_dates(start_date=\"2011-01-02\",end_date=\"2011-01-01\")\n",
    "            \n",
    "        with self.assertRaises(Exception):\n",
    "            dataset.set_validation_dates(start_date=\"2011-01-02\",end_date=\"2011-01-01\")\n",
    "            \n",
    "    def test_download_start_end_dates_1(self):\n",
    "        dataset = CreateDataSet('SPY')\n",
    "        dataset.set_training_dates(start_date=\"2010-01-04\",end_date=\"2010-06-01\")\n",
    "        dataset.set_test_dates(start_date=\"2011-01-04\",end_date=\"2011-06-01\")\n",
    "        dataset.set_validation_dates(start_date=\"2012-01-04\",end_date=\"2012-06-01\")        \n",
    "        dataset.download_data()\n",
    "        \n",
    "        # (start_date,end_date) should be (training_start,validation_end)\n",
    "        self.__verify_start_end_date(dataset.yahoo_data,expected_start=\"2010-01-04\",expected_end=\"2012-06-01\")\n",
    "        \n",
    "    def test_download_start_end_dates_2(self):\n",
    "        dataset = CreateDataSet('SPY')\n",
    "        dataset.set_test_dates(start_date=\"2010-01-04\",end_date=\"2010-06-01\")\n",
    "        dataset.set_validation_dates(start_date=\"2011-01-04\",end_date=\"2011-06-01\")\n",
    "        dataset.set_training_dates(start_date=\"2012-01-04\",end_date=\"2012-06-01\")        \n",
    "        dataset.download_data()\n",
    "        \n",
    "        # (start_date,end_date) should be (test_start,training_end)\n",
    "        self.__verify_start_end_date(dataset.yahoo_data,expected_start=\"2010-01-04\",expected_end=\"2012-06-01\")\n",
    "        \n",
    "    def test_download_start_end_dates_3(self):\n",
    "        dataset = CreateDataSet('SPY')\n",
    "        dataset.set_validation_dates(start_date=\"2010-01-04\",end_date=\"2010-06-01\")\n",
    "        dataset.set_training_dates(start_date=\"2011-01-04\",end_date=\"2011-06-01\")\n",
    "        dataset.set_test_dates(start_date=\"2012-01-04\",end_date=\"2012-06-01\")        \n",
    "        dataset.download_data()\n",
    "        \n",
    "        # (start_date,end_date) should be (validation_start,test_end)\n",
    "        self.__verify_start_end_date(dataset.yahoo_data,expected_start=\"2010-01-04\",expected_end=\"2012-06-01\")\n",
    "        \n",
    "    def __verify_start_end_date(self,dataframe,expected_start,expected_end):\n",
    "        start_date, end_date = dataframe.index[0], dataframe.index[-1]\n",
    "        start_date = start_date.strftime(\"%Y-%m-%d\")\n",
    "        end_date = end_date.strftime(\"%Y-%m-%d\")\n",
    "        \n",
    "        self.assertEqual(start_date,expected_start)\n",
    "        self.assertEqual(end_date,expected_end)\n",
    "        \n",
    "    def test_create_dataset(self):\n",
    "        dataset = CreateDataSet('SPY')\n",
    "        dataset.set_training_dates(start_date=\"2010-01-04\",end_date=\"2010-06-01\")\n",
    "        dataset.set_test_dates(start_date=\"2011-01-04\",end_date=\"2011-06-01\")\n",
    "        dataset.set_validation_dates(start_date=\"2012-01-04\",end_date=\"2012-06-01\")        \n",
    "        dataset.create_dataset()\n",
    "        \n",
    "        # check for 10 x features and 1 y feature\n",
    "        self.assertEqual(dataset.training_x.shape[1],10)\n",
    "        self.assertEqual(dataset.training_y.shape[1],1)\n",
    "        self.assertEqual(dataset.test_x.shape[1],10)\n",
    "        self.assertEqual(dataset.test_y.shape[1],1)\n",
    "        self.assertEqual(dataset.validation_x.shape[1],10)\n",
    "        self.assertEqual(dataset.validation_y.shape[1],1)\n",
    "        \n",
    "        # check dates\n",
    "        self.__check_data_in_date_range(dataset.training_df,start_date=\"2010-01-04\",end_date=\"2010-06-01\")\n",
    "        self.__check_data_in_date_range(dataset.test_df,start_date=\"2011-01-04\",end_date=\"2011-06-01\")\n",
    "        self.__check_data_in_date_range(dataset.validation_df,start_date=\"2012-01-04\",end_date=\"2012-06-01\")\n",
    "        \n",
    "    def __check_data_in_date_range(self,df,start_date,end_date):\n",
    "        dates = df.index\n",
    "        start_timestamp = pd.to_datetime(start_date)        \n",
    "        end_timestamp = pd.to_datetime(end_date)\n",
    "        \n",
    "        for date in dates:\n",
    "            self.assertTrue(date >= start_timestamp)\n",
    "            self.assertTrue(date <= end_timestamp)        \n",
    "    \n",
    "        \n",
    "        \n",
    "\n",
    "run_unit_tests(CreateDataSetTest)"
   ]
  },
  {
   "cell_type": "markdown",
   "metadata": {},
   "source": [
    "## Get the data\n",
    "\n",
    "Download the price data from Yahoo and load it into memory"
   ]
  },
  {
   "cell_type": "code",
   "execution_count": 2,
   "metadata": {
    "collapsed": true
   },
   "outputs": [],
   "source": [
    "def download_data_yahoo(symbol,start_date,end_date):\n",
    "    data = pdr.get_data_yahoo(symbol, start=start_date, end=end_date)\n",
    "    return data"
   ]
  },
  {
   "cell_type": "code",
   "execution_count": 3,
   "metadata": {},
   "outputs": [
    {
     "name": "stdout",
     "output_type": "stream",
     "text": [
      "[*********************100%***********************]  1 of 1 downloaded"
     ]
    }
   ],
   "source": [
    "# test download_data\n",
    "start = datetime.datetime(2010,1,1)\n",
    "end = datetime.datetime(2011,1,1)\n",
    "test_data = download_data_yahoo('SPY',start_date=\"2010-01-01\",end_date=\"2011-01-01\")"
   ]
  },
  {
   "cell_type": "code",
   "execution_count": 5,
   "metadata": {},
   "outputs": [
    {
     "data": {
      "text/html": [
       "<div>\n",
       "<style>\n",
       "    .dataframe thead tr:only-child th {\n",
       "        text-align: right;\n",
       "    }\n",
       "\n",
       "    .dataframe thead th {\n",
       "        text-align: left;\n",
       "    }\n",
       "\n",
       "    .dataframe tbody tr th {\n",
       "        vertical-align: top;\n",
       "    }\n",
       "</style>\n",
       "<table border=\"1\" class=\"dataframe\">\n",
       "  <thead>\n",
       "    <tr style=\"text-align: right;\">\n",
       "      <th></th>\n",
       "      <th>Open</th>\n",
       "      <th>High</th>\n",
       "      <th>Low</th>\n",
       "      <th>Close</th>\n",
       "      <th>Adj Close</th>\n",
       "      <th>Volume</th>\n",
       "    </tr>\n",
       "    <tr>\n",
       "      <th>Date</th>\n",
       "      <th></th>\n",
       "      <th></th>\n",
       "      <th></th>\n",
       "      <th></th>\n",
       "      <th></th>\n",
       "      <th></th>\n",
       "    </tr>\n",
       "  </thead>\n",
       "  <tbody>\n",
       "    <tr>\n",
       "      <th>2010-01-04</th>\n",
       "      <td>112.370003</td>\n",
       "      <td>113.389999</td>\n",
       "      <td>111.510002</td>\n",
       "      <td>113.330002</td>\n",
       "      <td>97.314163</td>\n",
       "      <td>118944600</td>\n",
       "    </tr>\n",
       "    <tr>\n",
       "      <th>2010-01-05</th>\n",
       "      <td>113.260002</td>\n",
       "      <td>113.680000</td>\n",
       "      <td>112.849998</td>\n",
       "      <td>113.629997</td>\n",
       "      <td>97.571754</td>\n",
       "      <td>111579900</td>\n",
       "    </tr>\n",
       "    <tr>\n",
       "      <th>2010-01-06</th>\n",
       "      <td>113.519997</td>\n",
       "      <td>113.989998</td>\n",
       "      <td>113.430000</td>\n",
       "      <td>113.709999</td>\n",
       "      <td>97.640457</td>\n",
       "      <td>116074400</td>\n",
       "    </tr>\n",
       "    <tr>\n",
       "      <th>2010-01-07</th>\n",
       "      <td>113.500000</td>\n",
       "      <td>114.330002</td>\n",
       "      <td>113.180000</td>\n",
       "      <td>114.190002</td>\n",
       "      <td>98.052658</td>\n",
       "      <td>131091100</td>\n",
       "    </tr>\n",
       "    <tr>\n",
       "      <th>2010-01-08</th>\n",
       "      <td>113.889999</td>\n",
       "      <td>114.620003</td>\n",
       "      <td>113.660004</td>\n",
       "      <td>114.570000</td>\n",
       "      <td>98.378929</td>\n",
       "      <td>126402800</td>\n",
       "    </tr>\n",
       "  </tbody>\n",
       "</table>\n",
       "</div>"
      ],
      "text/plain": [
       "                  Open        High         Low       Close  Adj Close  \\\n",
       "Date                                                                    \n",
       "2010-01-04  112.370003  113.389999  111.510002  113.330002  97.314163   \n",
       "2010-01-05  113.260002  113.680000  112.849998  113.629997  97.571754   \n",
       "2010-01-06  113.519997  113.989998  113.430000  113.709999  97.640457   \n",
       "2010-01-07  113.500000  114.330002  113.180000  114.190002  98.052658   \n",
       "2010-01-08  113.889999  114.620003  113.660004  114.570000  98.378929   \n",
       "\n",
       "               Volume  \n",
       "Date                   \n",
       "2010-01-04  118944600  \n",
       "2010-01-05  111579900  \n",
       "2010-01-06  116074400  \n",
       "2010-01-07  131091100  \n",
       "2010-01-08  126402800  "
      ]
     },
     "execution_count": 5,
     "metadata": {},
     "output_type": "execute_result"
    }
   ],
   "source": [
    "test_data.head()"
   ]
  },
  {
   "cell_type": "markdown",
   "metadata": {},
   "source": [
    "## Preprocess the data\n",
    "Preprocess the data into inputs and outputs.\n",
    "For example, for each time step, use the past 10 days as the input, and the price on the next day as the output.  Also, do any data cleaning that is necessary like filling in missing prices"
   ]
  },
  {
   "cell_type": "code",
   "execution_count": 8,
   "metadata": {
    "collapsed": true
   },
   "outputs": [],
   "source": [
    "# TODO improvement?\n",
    "# - build pandas df\n",
    "# - features X0, X1, X2, ... up to number_of_days, Y\n",
    "# - use shift to build features\n",
    "# - trim NaNs from start\n",
    "\n",
    "def preprocess_data(yahoo_data,number_of_days=10):\n",
    "    \n",
    "    prices = yahoo_data['Adj Close']\n",
    "    num_prices = len(prices)\n",
    "    \n",
    "    # handle missing data:  fill forward, then fill backward\n",
    "    prices.fillna(method='ffill', inplace=True)\n",
    "    prices.fillna(method='bfill', inplace=True)\n",
    "    \n",
    "    # only use dates with enough information\n",
    "    # start with the first date with number_of_days in the past available\n",
    "    # end with the next to last date since we are predicting 1 day in the future\n",
    "    #valid_data = raw_data.iloc[number_of_days-1:-1]\n",
    "    #valid_prices = prices.iloc[number_of_days-1:-1]\n",
    "    start_index = number_of_days - 1\n",
    "    end_index = num_prices - 1\n",
    "    num_samples = end_index - start_index\n",
    "    \n",
    "    # build the inputs and outputs\n",
    "    input_x = np.empty((num_samples,number_of_days),dtype=np.float)\n",
    "    output_y = np.empty((num_samples),dtype=np.float)\n",
    "    \n",
    "    for sample_i in range(num_samples):\n",
    "        # this is the index number of the current day\n",
    "        # input data will be today's index with number of days in the past\n",
    "        # output data will be tommorrow's price (today_i+1)\n",
    "        today_i = sample_i + number_of_days - 1\n",
    "        \n",
    "        input_x[sample_i,:] = prices[today_i-number_of_days+1:today_i+1]\n",
    "        output_y[sample_i] = prices[today_i+1]\n",
    "        \n",
    "    return input_x, output_y\n",
    "        \n",
    "input_x, output_y = preprocess_data(test_data)"
   ]
  },
  {
   "cell_type": "code",
   "execution_count": 9,
   "metadata": {},
   "outputs": [
    {
     "name": "stdout",
     "output_type": "stream",
     "text": [
      "Row 0 Raw Data\n",
      "-------------------\n",
      "Input:\n",
      "[ 97.314163  97.571754  97.640457  98.052658  98.378929  98.516312\n",
      "  97.597534  98.421867  98.688065  97.580353]\n",
      "Output:\n",
      "98.79969\n",
      "\n",
      "Data Interpretation\n",
      "-------------------\n",
      "Today's Price : 97.580353\n",
      "Today - 1 days: 98.688065\n",
      "Today - 2 days: 98.421867\n",
      "Today - 3 days: 97.597534\n",
      "Today - 4 days: 98.516312\n",
      "Today - 5 days: 98.378929\n",
      "Today - 6 days: 98.052658\n",
      "Today - 7 days: 97.640457\n",
      "Today - 8 days: 97.571754\n",
      "Today - 9 days: 97.314163\n",
      "Tomorrow's Price (Price to Predict): 98.799690\n",
      "\n",
      "Row 1 Raw Data\n",
      "-------------------\n",
      "Input:\n",
      "[ 97.571754  97.640457  98.052658  98.378929  98.516312  97.597534\n",
      "  98.421867  98.688065  97.580353  98.79969 ]\n",
      "Output:\n",
      "97.795021\n",
      "\n",
      "Data Interpretation\n",
      "-------------------\n",
      "Today's Price : 98.799690\n",
      "Today - 1 days: 97.580353\n",
      "Today - 2 days: 98.688065\n",
      "Today - 3 days: 98.421867\n",
      "Today - 4 days: 97.597534\n",
      "Today - 5 days: 98.516312\n",
      "Today - 6 days: 98.378929\n",
      "Today - 7 days: 98.052658\n",
      "Today - 8 days: 97.640457\n",
      "Today - 9 days: 97.571754\n",
      "Tomorrow's Price (Price to Predict): 97.795021\n",
      "\n",
      "Row -1 Raw Data\n",
      "-------------------\n",
      "Input:\n",
      "[ 108.712715  108.82917   109.091827  109.78347   110.124939  109.967361\n",
      "  110.011124  110.168709  110.24752   110.072426]\n",
      "Output:\n",
      "110.098694\n",
      "\n",
      "Data Interpretation\n",
      "-------------------\n",
      "Today's Price : 110.072426\n",
      "Today - 1 days: 110.247520\n",
      "Today - 2 days: 110.168709\n",
      "Today - 3 days: 110.011124\n",
      "Today - 4 days: 109.967361\n",
      "Today - 5 days: 110.124939\n",
      "Today - 6 days: 109.783470\n",
      "Today - 7 days: 109.091827\n",
      "Today - 8 days: 108.829170\n",
      "Today - 9 days: 108.712715\n",
      "Tomorrow's Price (Price to Predict): 110.098694\n",
      "\n"
     ]
    }
   ],
   "source": [
    "# look at some of the data\n",
    "def print_row(i,input_x,output_y):\n",
    "    print(\"Row %d Raw Data\" % (i))\n",
    "    print(\"-------------------\")\n",
    "    print(\"Input:\")\n",
    "    print(input_x[i,:])\n",
    "    print(\"Output:\")\n",
    "    print(output_y[i])\n",
    "    print(\"\")\n",
    "    \n",
    "    print(\"Data Interpretation\")\n",
    "    print(\"-------------------\")\n",
    "    num_inputs = input_x.shape[1]\n",
    "    \n",
    "    print(\"Today's Price : %f\" % (input_x[i,-1]))\n",
    "    \n",
    "    for xi in range(num_inputs-2,-1,-1):\n",
    "        days_in_past = num_inputs - xi - 1\n",
    "        print(\"Today - %d days: %f\" % (days_in_past,input_x[i,xi]))\n",
    "        \n",
    "    print(\"Tomorrow's Price (Price to Predict): %f\\n\" % (output_y[i]))\n",
    "    \n",
    "\n",
    "print_row(0,input_x,output_y)\n",
    "print_row(1,input_x,output_y)\n",
    "print_row(-1,input_x,output_y) # last row\n",
    "\n",
    "\n"
   ]
  },
  {
   "cell_type": "markdown",
   "metadata": {},
   "source": [
    "## Divide data into training, test, and validation sets\n"
   ]
  },
  {
   "cell_type": "code",
   "execution_count": null,
   "metadata": {
    "collapsed": true
   },
   "outputs": [],
   "source": [
    "def split_dataset(data):\n",
    "    return train_data, test_data, validation_data"
   ]
  },
  {
   "cell_type": "markdown",
   "metadata": {},
   "source": [
    "## Create a modular function that can be called to get data\n",
    "Combine the previous functions into a simple function that can be called to get the data"
   ]
  },
  {
   "cell_type": "code",
   "execution_count": null,
   "metadata": {
    "collapsed": true
   },
   "outputs": [],
   "source": [
    "def get_data(symbol,train_start_date,train_end_date,\n",
    "             test_start_date,test_end_date,\n",
    "             validation_start_date,validation_end_date):\n",
    "    return train_data, test_data, validation_data"
   ]
  },
  {
   "cell_type": "markdown",
   "metadata": {},
   "source": [
    "## Create your model\n",
    "Setup whatever model you plan to use for price prediction. i.e. neural network, linear regression, etc."
   ]
  },
  {
   "cell_type": "code",
   "execution_count": null,
   "metadata": {
    "collapsed": true
   },
   "outputs": [],
   "source": [
    "def setup_model():\n",
    "    return model"
   ]
  },
  {
   "cell_type": "markdown",
   "metadata": {},
   "source": [
    "## Train your model\n",
    "Define the function to train your model using the training data and the test data"
   ]
  },
  {
   "cell_type": "code",
   "execution_count": null,
   "metadata": {
    "collapsed": true
   },
   "outputs": [],
   "source": [
    "def train(model,train_data,test_data):\n",
    "    pass"
   ]
  },
  {
   "cell_type": "markdown",
   "metadata": {},
   "source": [
    "## Evaluate your model on the validation set\n",
    "Return the accuracy of your model"
   ]
  },
  {
   "cell_type": "code",
   "execution_count": null,
   "metadata": {
    "collapsed": true
   },
   "outputs": [],
   "source": [
    "def evaluate(model,validation_data):\n",
    "    pass"
   ]
  },
  {
   "cell_type": "markdown",
   "metadata": {},
   "source": [
    "## Display the results\n",
    "Show graphs and metrics of your model accuracy"
   ]
  },
  {
   "cell_type": "code",
   "execution_count": null,
   "metadata": {
    "collapsed": true
   },
   "outputs": [],
   "source": [
    "def results():\n",
    "    pass"
   ]
  },
  {
   "cell_type": "markdown",
   "metadata": {},
   "source": [
    "## Train and evaluate your model here\n",
    "Call the functions to get the data, train the model, and evaluate it on the validation data"
   ]
  },
  {
   "cell_type": "code",
   "execution_count": null,
   "metadata": {
    "collapsed": true
   },
   "outputs": [],
   "source": []
  }
 ],
 "metadata": {
  "kernelspec": {
   "display_name": "Python 3",
   "language": "python",
   "name": "python3"
  },
  "language_info": {
   "codemirror_mode": {
    "name": "ipython",
    "version": 3
   },
   "file_extension": ".py",
   "mimetype": "text/x-python",
   "name": "python",
   "nbconvert_exporter": "python",
   "pygments_lexer": "ipython3",
   "version": "3.6.1"
  }
 },
 "nbformat": 4,
 "nbformat_minor": 1
}
